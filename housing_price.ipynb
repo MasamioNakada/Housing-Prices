{
 "cells": [
  {
   "cell_type": "markdown",
   "metadata": {},
   "source": [
    "## Importacion de Librerias"
   ]
  },
  {
   "cell_type": "code",
   "execution_count": 124,
   "metadata": {},
   "outputs": [],
   "source": [
    "from wikiframe import Say, Extractor\n",
    "import numpy as np\n",
    "import pandas as pd\n",
    "\n",
    "\n",
    "\n",
    "from transform import one_hot_transform,normalize\n",
    "from utils import txt_list\n",
    "import warnings\n",
    "warnings.simplefilter(\"ignore\")\n",
    "\n",
    "from sklearn.linear_model import ElasticNet\n",
    "from sklearn.linear_model import Lasso\n",
    "from sklearn.linear_model import Ridge\n",
    "\n",
    "from sklearn.linear_model import HuberRegressor \n",
    "from sklearn.ensemble import RandomForestRegressor\n",
    "from sklearn.tree import DecisionTreeRegressor\n",
    "\n",
    "from sklearn.model_selection import RandomizedSearchCV\n",
    "\n",
    "from sklearn.model_selection import cross_val_score"
   ]
  },
  {
   "cell_type": "markdown",
   "metadata": {},
   "source": [
    "## Variables Principales\n",
    "\n",
    "Para el desarrollo del modelo , se tomó 18 columnas del dataset original que consideramos relevantes , que se encuentran en el ./features.txt.\n",
    "\n",
    "Se observó que en el los archivos data\\houses_test_raw.csv había nuevas variables categorícas , por lo que se decidió concatenar ambos archivos para extraer todas las variables que conforma el dataset."
   ]
  },
  {
   "cell_type": "code",
   "execution_count": 79,
   "metadata": {},
   "outputs": [],
   "source": [
    "#Instanciar el objeto Extractor\n",
    "extractor = Extractor('data')\n",
    "\n",
    "#Extraer en df de ./data\n",
    "df_dict = extractor.extract_from_csv()\n",
    "\n",
    "#Concatenar train y test para Hacer one hot encoding \n",
    "df_all = pd.concat([df_dict['house_train_raw'],df_dict['houses_test_raw']])\n",
    "\n",
    "#Extraer la lista de features elegidos en ./features.txt\n",
    "features = txt_list('features.txt')\n",
    "\n",
    "#Elegimos los features \n",
    "y = df_all['SalePrice']\n",
    "df_all = df_all[features]\n"
   ]
  },
  {
   "cell_type": "markdown",
   "metadata": {},
   "source": [
    "## Procesamiento de datos\n",
    "\n",
    "Debido a que las columnas elegidas, algunas son de variable categórica, se debe hacer una transformacion de datos. Se propone One Hot Encoding ya que soporta la entradas de valores nulos.\n",
    "\n",
    "Después de transformar las variables categóricas, se normalizará la funcion con (z-score)\n",
    "\n",
    "Nota: El código de las funciones se encuentran en ./transform.py"
   ]
  },
  {
   "cell_type": "code",
   "execution_count": 80,
   "metadata": {},
   "outputs": [],
   "source": [
    "df_all = one_hot_transform(df_all,features)"
   ]
  },
  {
   "cell_type": "code",
   "execution_count": 81,
   "metadata": {},
   "outputs": [],
   "source": [
    "#Normalizar los datos\n",
    "df_all = normalize(df_all)"
   ]
  },
  {
   "cell_type": "code",
   "execution_count": 82,
   "metadata": {},
   "outputs": [],
   "source": [
    "df_all['SalePrice'] = list(y)"
   ]
  },
  {
   "cell_type": "markdown",
   "metadata": {},
   "source": [
    "## Train - Test\n",
    "Se separó en Train -Test como estuvo al principio de la extraccion de datos.\n",
    "Para la validacion de nuestro modelo se optó por Cross Validation."
   ]
  },
  {
   "cell_type": "code",
   "execution_count": 83,
   "metadata": {},
   "outputs": [],
   "source": [
    "#Separando los datos como teníamos antes\n",
    "train = df_all.iloc[:1460,:]\n",
    "test = df_all.iloc[1460:,:]"
   ]
  },
  {
   "cell_type": "code",
   "execution_count": 241,
   "metadata": {},
   "outputs": [],
   "source": [
    "X = train.drop(['SalePrice'],axis=1)\n",
    "y = train['SalePrice']"
   ]
  },
  {
   "cell_type": "code",
   "execution_count": 242,
   "metadata": {},
   "outputs": [
    {
     "data": {
      "text/html": [
       "<div>\n",
       "<style scoped>\n",
       "    .dataframe tbody tr th:only-of-type {\n",
       "        vertical-align: middle;\n",
       "    }\n",
       "\n",
       "    .dataframe tbody tr th {\n",
       "        vertical-align: top;\n",
       "    }\n",
       "\n",
       "    .dataframe thead th {\n",
       "        text-align: right;\n",
       "    }\n",
       "</style>\n",
       "<table border=\"1\" class=\"dataframe\">\n",
       "  <thead>\n",
       "    <tr style=\"text-align: right;\">\n",
       "      <th></th>\n",
       "      <th>LotArea</th>\n",
       "      <th>OverallCond</th>\n",
       "      <th>YearBuilt</th>\n",
       "      <th>FullBath</th>\n",
       "      <th>TotRmsAbvGrd</th>\n",
       "      <th>OpenPorchSF</th>\n",
       "      <th>PoolArea</th>\n",
       "      <th>C (all)</th>\n",
       "      <th>FV</th>\n",
       "      <th>RH</th>\n",
       "      <th>...</th>\n",
       "      <th>Y</th>\n",
       "      <th>COD</th>\n",
       "      <th>CWD</th>\n",
       "      <th>Con</th>\n",
       "      <th>ConLD</th>\n",
       "      <th>ConLI</th>\n",
       "      <th>ConLw</th>\n",
       "      <th>New</th>\n",
       "      <th>Oth</th>\n",
       "      <th>WD</th>\n",
       "    </tr>\n",
       "  </thead>\n",
       "  <tbody>\n",
       "    <tr>\n",
       "      <th>0</th>\n",
       "      <td>-0.217879</td>\n",
       "      <td>-0.507284</td>\n",
       "      <td>1.046258</td>\n",
       "      <td>0.781366</td>\n",
       "      <td>0.986849</td>\n",
       "      <td>0.200006</td>\n",
       "      <td>-0.06315</td>\n",
       "      <td>-0.092944</td>\n",
       "      <td>-0.223607</td>\n",
       "      <td>-0.094801</td>\n",
       "      <td>...</td>\n",
       "      <td>0.324443</td>\n",
       "      <td>-0.175272</td>\n",
       "      <td>-0.064249</td>\n",
       "      <td>-0.041423</td>\n",
       "      <td>-0.094801</td>\n",
       "      <td>-0.055613</td>\n",
       "      <td>-0.052423</td>\n",
       "      <td>-0.298629</td>\n",
       "      <td>-0.049029</td>\n",
       "      <td>0.395018</td>\n",
       "    </tr>\n",
       "    <tr>\n",
       "      <th>1</th>\n",
       "      <td>-0.072044</td>\n",
       "      <td>2.188279</td>\n",
       "      <td>0.154764</td>\n",
       "      <td>0.781366</td>\n",
       "      <td>-0.287758</td>\n",
       "      <td>-0.702843</td>\n",
       "      <td>-0.06315</td>\n",
       "      <td>-0.092944</td>\n",
       "      <td>-0.223607</td>\n",
       "      <td>-0.094801</td>\n",
       "      <td>...</td>\n",
       "      <td>0.324443</td>\n",
       "      <td>-0.175272</td>\n",
       "      <td>-0.064249</td>\n",
       "      <td>-0.041423</td>\n",
       "      <td>-0.094801</td>\n",
       "      <td>-0.055613</td>\n",
       "      <td>-0.052423</td>\n",
       "      <td>-0.298629</td>\n",
       "      <td>-0.049029</td>\n",
       "      <td>0.395018</td>\n",
       "    </tr>\n",
       "    <tr>\n",
       "      <th>2</th>\n",
       "      <td>0.137197</td>\n",
       "      <td>-0.507284</td>\n",
       "      <td>0.980221</td>\n",
       "      <td>0.781366</td>\n",
       "      <td>-0.287758</td>\n",
       "      <td>-0.081209</td>\n",
       "      <td>-0.06315</td>\n",
       "      <td>-0.092944</td>\n",
       "      <td>-0.223607</td>\n",
       "      <td>-0.094801</td>\n",
       "      <td>...</td>\n",
       "      <td>0.324443</td>\n",
       "      <td>-0.175272</td>\n",
       "      <td>-0.064249</td>\n",
       "      <td>-0.041423</td>\n",
       "      <td>-0.094801</td>\n",
       "      <td>-0.055613</td>\n",
       "      <td>-0.052423</td>\n",
       "      <td>-0.298629</td>\n",
       "      <td>-0.049029</td>\n",
       "      <td>0.395018</td>\n",
       "    </tr>\n",
       "    <tr>\n",
       "      <th>3</th>\n",
       "      <td>-0.078385</td>\n",
       "      <td>-0.507284</td>\n",
       "      <td>-1.859351</td>\n",
       "      <td>-1.027363</td>\n",
       "      <td>0.349546</td>\n",
       "      <td>-0.184815</td>\n",
       "      <td>-0.06315</td>\n",
       "      <td>-0.092944</td>\n",
       "      <td>-0.223607</td>\n",
       "      <td>-0.094801</td>\n",
       "      <td>...</td>\n",
       "      <td>0.324443</td>\n",
       "      <td>-0.175272</td>\n",
       "      <td>-0.064249</td>\n",
       "      <td>-0.041423</td>\n",
       "      <td>-0.094801</td>\n",
       "      <td>-0.055613</td>\n",
       "      <td>-0.052423</td>\n",
       "      <td>-0.298629</td>\n",
       "      <td>-0.049029</td>\n",
       "      <td>0.395018</td>\n",
       "    </tr>\n",
       "    <tr>\n",
       "      <th>4</th>\n",
       "      <td>0.518903</td>\n",
       "      <td>-0.507284</td>\n",
       "      <td>0.947203</td>\n",
       "      <td>0.781366</td>\n",
       "      <td>1.624153</td>\n",
       "      <td>0.540424</td>\n",
       "      <td>-0.06315</td>\n",
       "      <td>-0.092944</td>\n",
       "      <td>-0.223607</td>\n",
       "      <td>-0.094801</td>\n",
       "      <td>...</td>\n",
       "      <td>0.324443</td>\n",
       "      <td>-0.175272</td>\n",
       "      <td>-0.064249</td>\n",
       "      <td>-0.041423</td>\n",
       "      <td>-0.094801</td>\n",
       "      <td>-0.055613</td>\n",
       "      <td>-0.052423</td>\n",
       "      <td>-0.298629</td>\n",
       "      <td>-0.049029</td>\n",
       "      <td>0.395018</td>\n",
       "    </tr>\n",
       "  </tbody>\n",
       "</table>\n",
       "<p>5 rows × 82 columns</p>\n",
       "</div>"
      ],
      "text/plain": [
       "    LotArea  OverallCond  YearBuilt  FullBath  TotRmsAbvGrd  OpenPorchSF  \\\n",
       "0 -0.217879    -0.507284   1.046258  0.781366      0.986849     0.200006   \n",
       "1 -0.072044     2.188279   0.154764  0.781366     -0.287758    -0.702843   \n",
       "2  0.137197    -0.507284   0.980221  0.781366     -0.287758    -0.081209   \n",
       "3 -0.078385    -0.507284  -1.859351 -1.027363      0.349546    -0.184815   \n",
       "4  0.518903    -0.507284   0.947203  0.781366      1.624153     0.540424   \n",
       "\n",
       "   PoolArea   C (all)        FV        RH  ...         Y       COD       CWD  \\\n",
       "0  -0.06315 -0.092944 -0.223607 -0.094801  ...  0.324443 -0.175272 -0.064249   \n",
       "1  -0.06315 -0.092944 -0.223607 -0.094801  ...  0.324443 -0.175272 -0.064249   \n",
       "2  -0.06315 -0.092944 -0.223607 -0.094801  ...  0.324443 -0.175272 -0.064249   \n",
       "3  -0.06315 -0.092944 -0.223607 -0.094801  ...  0.324443 -0.175272 -0.064249   \n",
       "4  -0.06315 -0.092944 -0.223607 -0.094801  ...  0.324443 -0.175272 -0.064249   \n",
       "\n",
       "        Con     ConLD     ConLI     ConLw       New       Oth        WD  \n",
       "0 -0.041423 -0.094801 -0.055613 -0.052423 -0.298629 -0.049029  0.395018  \n",
       "1 -0.041423 -0.094801 -0.055613 -0.052423 -0.298629 -0.049029  0.395018  \n",
       "2 -0.041423 -0.094801 -0.055613 -0.052423 -0.298629 -0.049029  0.395018  \n",
       "3 -0.041423 -0.094801 -0.055613 -0.052423 -0.298629 -0.049029  0.395018  \n",
       "4 -0.041423 -0.094801 -0.055613 -0.052423 -0.298629 -0.049029  0.395018  \n",
       "\n",
       "[5 rows x 82 columns]"
      ]
     },
     "execution_count": 242,
     "metadata": {},
     "output_type": "execute_result"
    }
   ],
   "source": [
    "X.head()"
   ]
  },
  {
   "cell_type": "code",
   "execution_count": 243,
   "metadata": {},
   "outputs": [
    {
     "data": {
      "text/html": [
       "<div>\n",
       "<style scoped>\n",
       "    .dataframe tbody tr th:only-of-type {\n",
       "        vertical-align: middle;\n",
       "    }\n",
       "\n",
       "    .dataframe tbody tr th {\n",
       "        vertical-align: top;\n",
       "    }\n",
       "\n",
       "    .dataframe thead th {\n",
       "        text-align: right;\n",
       "    }\n",
       "</style>\n",
       "<table border=\"1\" class=\"dataframe\">\n",
       "  <thead>\n",
       "    <tr style=\"text-align: right;\">\n",
       "      <th></th>\n",
       "      <th>LotArea</th>\n",
       "      <th>OverallCond</th>\n",
       "      <th>YearBuilt</th>\n",
       "      <th>FullBath</th>\n",
       "      <th>TotRmsAbvGrd</th>\n",
       "      <th>OpenPorchSF</th>\n",
       "      <th>PoolArea</th>\n",
       "      <th>C (all)</th>\n",
       "      <th>FV</th>\n",
       "      <th>RH</th>\n",
       "      <th>...</th>\n",
       "      <th>COD</th>\n",
       "      <th>CWD</th>\n",
       "      <th>Con</th>\n",
       "      <th>ConLD</th>\n",
       "      <th>ConLI</th>\n",
       "      <th>ConLw</th>\n",
       "      <th>New</th>\n",
       "      <th>Oth</th>\n",
       "      <th>WD</th>\n",
       "      <th>SalePrice</th>\n",
       "    </tr>\n",
       "  </thead>\n",
       "  <tbody>\n",
       "    <tr>\n",
       "      <th>1460</th>\n",
       "      <td>0.184371</td>\n",
       "      <td>0.391237</td>\n",
       "      <td>-0.340510</td>\n",
       "      <td>-1.027363</td>\n",
       "      <td>-0.925062</td>\n",
       "      <td>-0.702843</td>\n",
       "      <td>-0.06315</td>\n",
       "      <td>-0.092944</td>\n",
       "      <td>-0.223607</td>\n",
       "      <td>10.548423</td>\n",
       "      <td>...</td>\n",
       "      <td>-0.175272</td>\n",
       "      <td>-0.064249</td>\n",
       "      <td>-0.041423</td>\n",
       "      <td>-0.094801</td>\n",
       "      <td>-0.055613</td>\n",
       "      <td>-0.052423</td>\n",
       "      <td>-0.298629</td>\n",
       "      <td>-0.049029</td>\n",
       "      <td>0.395018</td>\n",
       "      <td>NaN</td>\n",
       "    </tr>\n",
       "    <tr>\n",
       "      <th>1461</th>\n",
       "      <td>0.519791</td>\n",
       "      <td>0.391237</td>\n",
       "      <td>-0.439565</td>\n",
       "      <td>-1.027363</td>\n",
       "      <td>-0.287758</td>\n",
       "      <td>-0.170014</td>\n",
       "      <td>-0.06315</td>\n",
       "      <td>-0.092944</td>\n",
       "      <td>-0.223607</td>\n",
       "      <td>-0.094801</td>\n",
       "      <td>...</td>\n",
       "      <td>-0.175272</td>\n",
       "      <td>-0.064249</td>\n",
       "      <td>-0.041423</td>\n",
       "      <td>-0.094801</td>\n",
       "      <td>-0.055613</td>\n",
       "      <td>-0.052423</td>\n",
       "      <td>-0.298629</td>\n",
       "      <td>-0.049029</td>\n",
       "      <td>0.395018</td>\n",
       "      <td>NaN</td>\n",
       "    </tr>\n",
       "    <tr>\n",
       "      <th>1462</th>\n",
       "      <td>0.464374</td>\n",
       "      <td>-0.507284</td>\n",
       "      <td>0.848148</td>\n",
       "      <td>0.781366</td>\n",
       "      <td>-0.287758</td>\n",
       "      <td>-0.199616</td>\n",
       "      <td>-0.06315</td>\n",
       "      <td>-0.092944</td>\n",
       "      <td>-0.223607</td>\n",
       "      <td>-0.094801</td>\n",
       "      <td>...</td>\n",
       "      <td>-0.175272</td>\n",
       "      <td>-0.064249</td>\n",
       "      <td>-0.041423</td>\n",
       "      <td>-0.094801</td>\n",
       "      <td>-0.055613</td>\n",
       "      <td>-0.052423</td>\n",
       "      <td>-0.298629</td>\n",
       "      <td>-0.049029</td>\n",
       "      <td>0.395018</td>\n",
       "      <td>NaN</td>\n",
       "    </tr>\n",
       "    <tr>\n",
       "      <th>1463</th>\n",
       "      <td>-0.024109</td>\n",
       "      <td>0.391237</td>\n",
       "      <td>0.881166</td>\n",
       "      <td>0.781366</td>\n",
       "      <td>0.349546</td>\n",
       "      <td>-0.170014</td>\n",
       "      <td>-0.06315</td>\n",
       "      <td>-0.092944</td>\n",
       "      <td>-0.223607</td>\n",
       "      <td>-0.094801</td>\n",
       "      <td>...</td>\n",
       "      <td>-0.175272</td>\n",
       "      <td>-0.064249</td>\n",
       "      <td>-0.041423</td>\n",
       "      <td>-0.094801</td>\n",
       "      <td>-0.055613</td>\n",
       "      <td>-0.052423</td>\n",
       "      <td>-0.298629</td>\n",
       "      <td>-0.049029</td>\n",
       "      <td>0.395018</td>\n",
       "      <td>NaN</td>\n",
       "    </tr>\n",
       "    <tr>\n",
       "      <th>1464</th>\n",
       "      <td>-0.654748</td>\n",
       "      <td>-0.507284</td>\n",
       "      <td>0.683057</td>\n",
       "      <td>0.781366</td>\n",
       "      <td>-0.925062</td>\n",
       "      <td>0.510823</td>\n",
       "      <td>-0.06315</td>\n",
       "      <td>-0.092944</td>\n",
       "      <td>-0.223607</td>\n",
       "      <td>-0.094801</td>\n",
       "      <td>...</td>\n",
       "      <td>-0.175272</td>\n",
       "      <td>-0.064249</td>\n",
       "      <td>-0.041423</td>\n",
       "      <td>-0.094801</td>\n",
       "      <td>-0.055613</td>\n",
       "      <td>-0.052423</td>\n",
       "      <td>-0.298629</td>\n",
       "      <td>-0.049029</td>\n",
       "      <td>0.395018</td>\n",
       "      <td>NaN</td>\n",
       "    </tr>\n",
       "  </tbody>\n",
       "</table>\n",
       "<p>5 rows × 83 columns</p>\n",
       "</div>"
      ],
      "text/plain": [
       "       LotArea  OverallCond  YearBuilt  FullBath  TotRmsAbvGrd  OpenPorchSF  \\\n",
       "1460  0.184371     0.391237  -0.340510 -1.027363     -0.925062    -0.702843   \n",
       "1461  0.519791     0.391237  -0.439565 -1.027363     -0.287758    -0.170014   \n",
       "1462  0.464374    -0.507284   0.848148  0.781366     -0.287758    -0.199616   \n",
       "1463 -0.024109     0.391237   0.881166  0.781366      0.349546    -0.170014   \n",
       "1464 -0.654748    -0.507284   0.683057  0.781366     -0.925062     0.510823   \n",
       "\n",
       "      PoolArea   C (all)        FV         RH  ...       COD       CWD  \\\n",
       "1460  -0.06315 -0.092944 -0.223607  10.548423  ... -0.175272 -0.064249   \n",
       "1461  -0.06315 -0.092944 -0.223607  -0.094801  ... -0.175272 -0.064249   \n",
       "1462  -0.06315 -0.092944 -0.223607  -0.094801  ... -0.175272 -0.064249   \n",
       "1463  -0.06315 -0.092944 -0.223607  -0.094801  ... -0.175272 -0.064249   \n",
       "1464  -0.06315 -0.092944 -0.223607  -0.094801  ... -0.175272 -0.064249   \n",
       "\n",
       "           Con     ConLD     ConLI     ConLw       New       Oth        WD  \\\n",
       "1460 -0.041423 -0.094801 -0.055613 -0.052423 -0.298629 -0.049029  0.395018   \n",
       "1461 -0.041423 -0.094801 -0.055613 -0.052423 -0.298629 -0.049029  0.395018   \n",
       "1462 -0.041423 -0.094801 -0.055613 -0.052423 -0.298629 -0.049029  0.395018   \n",
       "1463 -0.041423 -0.094801 -0.055613 -0.052423 -0.298629 -0.049029  0.395018   \n",
       "1464 -0.041423 -0.094801 -0.055613 -0.052423 -0.298629 -0.049029  0.395018   \n",
       "\n",
       "      SalePrice  \n",
       "1460        NaN  \n",
       "1461        NaN  \n",
       "1462        NaN  \n",
       "1463        NaN  \n",
       "1464        NaN  \n",
       "\n",
       "[5 rows x 83 columns]"
      ]
     },
     "execution_count": 243,
     "metadata": {},
     "output_type": "execute_result"
    }
   ],
   "source": [
    "test.head()"
   ]
  },
  {
   "cell_type": "markdown",
   "metadata": {},
   "source": [
    "## Modelo\n",
    "\n",
    "Ya que existen distintos tipos de regresores, se decidió colocarlos en un diccionario para automatizar la regresión de todos en pocas lineas de código.\n",
    "\n",
    "La métrica que propuesta fue \"Raíz Cuadrada del Error Logarítmico Medio\" , con el que se comprabará la precisión del modelo."
   ]
  },
  {
   "cell_type": "code",
   "execution_count": 198,
   "metadata": {},
   "outputs": [],
   "source": [
    "estimators = {\n",
    "    'ElasticNet': ElasticNet(random_state=0),\n",
    "    'Lasso': Lasso(alpha=0.2),\n",
    "    'Ridge': Ridge(alpha=1),\n",
    "    'Huber': HuberRegressor(epsilon=1.46,fit_intercept=True),\n",
    "    'RandomForest': RandomForestRegressor(),\n",
    "    'DecisionTree': DecisionTreeRegressor()\n",
    "}"
   ]
  },
  {
   "cell_type": "code",
   "execution_count": 199,
   "metadata": {},
   "outputs": [
    {
     "name": "stdout",
     "output_type": "stream",
     "text": [
      "ElasticNet 0.0279413922934663\n",
      "Lasso 0.02834341817368946\n",
      "Ridge 0.0283199250124809\n",
      "Huber 0.02755907651671961\n",
      "RandomForest 0.027036733139038933\n",
      "DecisionTree 0.052303129468979685\n"
     ]
    }
   ],
   "source": [
    "for name, estimator in estimators.items():\n",
    "    score = cross_val_score(estimator, X, y, cv=5, scoring='neg_mean_squared_log_error')\n",
    "    print(name, np.abs(score).min())"
   ]
  },
  {
   "cell_type": "markdown",
   "metadata": {},
   "source": [
    "#### Mejor Modelo\n",
    "El mejor modelo fue RandomForest.\n",
    "Se optimizará el resultado con los siguientes parámetros."
   ]
  },
  {
   "cell_type": "code",
   "execution_count": 223,
   "metadata": {},
   "outputs": [],
   "source": [
    "random_params = {'n_estimators': [300,400,500,600],  \n",
    "               'max_features': ['sqrt'],  \n",
    "               'max_depth': [ 60, 70, 80, 90, 100,], \n",
    "               'min_samples_split':  [2, 5, 10], \n",
    "               'min_samples_leaf': [1, 2, 4], \n",
    "               'bootstrap': [True, False]}\n",
    "\n",
    "score_rand = RandomizedSearchCV(RandomForestRegressor(), random_params, cv=3, scoring='neg_mean_squared_log_error',n_iter=20).fit(X, y)"
   ]
  },
  {
   "cell_type": "code",
   "execution_count": 224,
   "metadata": {},
   "outputs": [
    {
     "data": {
      "text/plain": [
       "{'n_estimators': 600,\n",
       " 'min_samples_split': 2,\n",
       " 'min_samples_leaf': 1,\n",
       " 'max_features': 'sqrt',\n",
       " 'max_depth': 100,\n",
       " 'bootstrap': False}"
      ]
     },
     "execution_count": 224,
     "metadata": {},
     "output_type": "execute_result"
    }
   ],
   "source": [
    "score_rand.best_params_"
   ]
  },
  {
   "cell_type": "code",
   "execution_count": 228,
   "metadata": {},
   "outputs": [],
   "source": [
    "random_forest=RandomForestRegressor(n_estimators=600,max_features='sqrt',max_depth=100,min_samples_split=2,min_samples_leaf=1,bootstrap=False)"
   ]
  },
  {
   "cell_type": "code",
   "execution_count": 229,
   "metadata": {},
   "outputs": [
    {
     "name": "stdout",
     "output_type": "stream",
     "text": [
      "RMSLE:  0.025712706115561878\n"
     ]
    }
   ],
   "source": [
    "score = cross_val_score(random_forest, X, y, cv=5, scoring='neg_mean_squared_log_error')\n",
    "print('RMSLE: ',np.abs(score).min())"
   ]
  },
  {
   "cell_type": "markdown",
   "metadata": {},
   "source": [
    "## Resultados\n",
    "\n",
    "Se obtuvo una métrica del 0.02571 gracias a elegir correctamente los hyperparámetros del RandomForestRegressor. \n",
    "\n",
    "Se procederá a predecir el dataset de Test"
   ]
  },
  {
   "cell_type": "code",
   "execution_count": 246,
   "metadata": {},
   "outputs": [],
   "source": [
    "X_test = test.drop(['SalePrice'],axis=1)\n",
    "random_forest_model = random_forest.fit(X,y)\n",
    "y_pred = random_forest_model.predict(X_test)"
   ]
  },
  {
   "cell_type": "code",
   "execution_count": 247,
   "metadata": {},
   "outputs": [],
   "source": [
    "X_test['SalePrice'] = y_pred\n",
    "X_test.to_csv('./out/predictions.csv',index=False)"
   ]
  }
 ],
 "metadata": {
  "kernelspec": {
   "display_name": "Python 3.9.5 64-bit",
   "language": "python",
   "name": "python3"
  },
  "language_info": {
   "codemirror_mode": {
    "name": "ipython",
    "version": 3
   },
   "file_extension": ".py",
   "mimetype": "text/x-python",
   "name": "python",
   "nbconvert_exporter": "python",
   "pygments_lexer": "ipython3",
   "version": "3.9.5"
  },
  "orig_nbformat": 4,
  "vscode": {
   "interpreter": {
    "hash": "62939cffaf3738bbc51b67feedae315a96f833a89dd775a8934aadd695f34ad2"
   }
  }
 },
 "nbformat": 4,
 "nbformat_minor": 2
}
