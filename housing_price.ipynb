{
 "cells": [
  {
   "cell_type": "code",
   "execution_count": 2,
   "metadata": {},
   "outputs": [],
   "source": [
    "from wikiframe import Say, Extractor\n",
    "import pandas as pd\n",
    "import numpy as np\n",
    "\n",
    "\n",
    "from transform import one_hot_transform\n",
    "from utils import txt_list"
   ]
  },
  {
   "cell_type": "markdown",
   "metadata": {},
   "source": [
    "## Variables Principales"
   ]
  },
  {
   "cell_type": "code",
   "execution_count": null,
   "metadata": {},
   "outputs": [],
   "source": [
    "#Instanciar el objeto Extractor\n",
    "extractor = Extractor('data')\n",
    "\n",
    "#Extraer en df de ./data\n",
    "df_dict = extractor.extract_from_csv()\n",
    "\n",
    "#Concatenar train y test para Hacer one hot encoding \n",
    "df_all = pd.concat([df_dict['house_train_raw'],df_dict['houses_test_raw']])\n",
    "\n",
    "#Extraer la lista de features elegidos en ./features.txt\n",
    "features = txt_list('features.txt')\n",
    "\n",
    "#Elegimos los features \n",
    "df_all = df_all[features]\n",
    "\n",
    "#Mediante la funcion one_hot_transform hacemos el tratamiento de variables categoricas\n",
    "df_all = one_hot_transform(df_all,features)"
   ]
  }
 ],
 "metadata": {
  "kernelspec": {
   "display_name": "Python 3.10.4 64-bit",
   "language": "python",
   "name": "python3"
  },
  "language_info": {
   "codemirror_mode": {
    "name": "ipython",
    "version": 3
   },
   "file_extension": ".py",
   "mimetype": "text/x-python",
   "name": "python",
   "nbconvert_exporter": "python",
   "pygments_lexer": "ipython3",
   "version": "3.10.4"
  },
  "orig_nbformat": 4,
  "vscode": {
   "interpreter": {
    "hash": "369f2c481f4da34e4445cda3fffd2e751bd1c4d706f27375911949ba6bb62e1c"
   }
  }
 },
 "nbformat": 4,
 "nbformat_minor": 2
}
