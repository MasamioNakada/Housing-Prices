{
 "cells": [
  {
   "cell_type": "markdown",
   "metadata": {},
   "source": [
    "## Importando Librerías"
   ]
  },
  {
   "cell_type": "code",
   "execution_count": 9,
   "metadata": {},
   "outputs": [],
   "source": [
    "from wikiframe import Say, Extractor #Extrae los csv files\n",
    "import numpy as np  #Libreria para trabajar con arrays\n",
    "import pandas as pd #Libreria para trabajar con dataframes\n",
    "\n",
    "import warnings\n",
    "warnings.simplefilter(\"ignore\")\n",
    "\n",
    "#Regresores\n",
    "from sklearn.linear_model import ElasticNet \n",
    "from sklearn.linear_model import HuberRegressor \n",
    "from sklearn.ensemble import RandomForestRegressor\n",
    "\n",
    "\n",
    "from sklearn.model_selection import RandomizedSearchCV,cross_val_score,KFold\n",
    "\n",
    "from sklearn.pipeline import make_pipeline \n",
    "from sklearn.pipeline import Pipeline\n",
    "from sklearn.impute import SimpleImputer\n",
    "from sklearn.preprocessing import RobustScaler,StandardScaler, OneHotEncoder, LabelEncoder,PowerTransformer, Normalizer\n",
    "from sklearn.compose import ColumnTransformer\n",
    "from mlxtend.regressor import StackingCVRegressor"
   ]
  },
  {
   "cell_type": "markdown",
   "metadata": {},
   "source": [
    "## Variables Principales\n",
    "\n",
    "Para el desarrollo del modelo , se tomó todas la columnas de la tabla de datos."
   ]
  },
  {
   "cell_type": "code",
   "execution_count": 10,
   "metadata": {},
   "outputs": [],
   "source": [
    "#Instanciar el objeto Extractor\n",
    "extractor = Extractor('data')\n",
    "\n",
    "#Extraer en df de ./data\n",
    "df_dict = extractor.extract_from_csv()\n",
    "\n",
    "#Crear dataframe con los datos\n",
    "train = df_dict['house_train_raw'].drop(['Id'],axis=1)\n",
    "test = df_dict['houses_test_raw'].drop(['Id'],axis=1)"
   ]
  },
  {
   "cell_type": "code",
   "execution_count": 11,
   "metadata": {},
   "outputs": [],
   "source": [
    "#Separamos en train y test\n",
    "X_train = train.drop(['SalePrice'], axis=1)\n",
    "y_train = train['SalePrice']"
   ]
  },
  {
   "cell_type": "code",
   "execution_count": 12,
   "metadata": {},
   "outputs": [],
   "source": [
    "#Sepramos las varaiables categoricas y las numericas\n",
    "categorical_cols = [x for x in X_train if X_train[x].dtype == \"object\"]\n",
    "numerical_cols = [x for x in X_train if X_train[x].dtype == \"int64\" or train[x].dtype == \"float64\"]"
   ]
  },
  {
   "cell_type": "code",
   "execution_count": 13,
   "metadata": {},
   "outputs": [],
   "source": [
    "#Elegimos los mejores Regresores\n",
    "huber_regressor = HuberRegressor()\n",
    "elastic_net = ElasticNet()\n",
    "randon_forest = RandomForestRegressor()"
   ]
  },
  {
   "cell_type": "code",
   "execution_count": 14,
   "metadata": {},
   "outputs": [],
   "source": [
    "#Pipelines\n",
    "\n",
    "#Pipeline para la variable categorica\n",
    "categorical = Pipeline(steps=[\n",
    "    (\"imputer\", SimpleImputer(strategy=\"most_frequent\")), #Llena los NaN con el valor mas frecuentes\n",
    "    (\"oneHot\", OneHotEncoder(handle_unknown=\"ignore\")) #Codifica las variables categoricas\n",
    "])\n",
    "\n",
    "#Pipeline para la variable numerica\n",
    "numerical = Pipeline(steps=[\n",
    "    (\"imputer\", SimpleImputer(strategy=\"median\")), #Llena los NaN con la mediana de la columna\n",
    "    (\"scaler\", PowerTransformer()) #Transforma los valores de la columna, se eligió PowerTransformer porque trata de hacer gausiana la distribucion de los valores\n",
    "])\n",
    "\n",
    "#Pipeline para las variables categoricas y numericas\n",
    "preproces = ColumnTransformer(\n",
    "    transformers=[\n",
    "        ('cat', categorical, categorical_cols),\n",
    "        ('num', numerical, numerical_cols)\n",
    "])"
   ]
  },
  {
   "cell_type": "code",
   "execution_count": 15,
   "metadata": {},
   "outputs": [],
   "source": [
    "#Pipeline para el modelo\n",
    "model = StackingCVRegressor(\n",
    "    regressors=[huber_regressor, elastic_net, randon_forest],\n",
    "    meta_regressor=RandomForestRegressor()\n",
    ")\n",
    "\n",
    "#Pipeline para el modelo general\n",
    "pipe = Pipeline(steps=[\n",
    "    ('preproces', preproces),\n",
    "    ('model', model)\n",
    "])"
   ]
  },
  {
   "cell_type": "code",
   "execution_count": 16,
   "metadata": {},
   "outputs": [],
   "source": [
    "#Establecemos los parametros del modelo para que sean optimizados\n",
    "grid =RandomizedSearchCV(\n",
    "    pipe, \n",
    "    param_distributions={\n",
    "        'model__elasticnet__alpha':[0.0001, 0.0002, 0.0003, 0.0004, 0.0005, 0.0006, 0.0007],\n",
    "        'model__elasticnet__l1_ratio':[0.8, 0.85, 0.9, 0.95, 0.99, 1],\n",
    "        'model__huberregressor__epsilon':np.linspace(1, 1.9, num=9),\n",
    "        'model__huberregressor__max_iter':[100,200,300,400,500,600,700,800,900,1000],\n",
    "        'model__randomforestregressor__n_estimators': [300,400,500,600],\n",
    "        'model__randomforestregressor__max_features': ['sqrt', 'log2', None],\n",
    "        'model__randomforestregressor__max_depth': [ 60, 70, 80, 90, 100,],\n",
    "        'model__randomforestregressor__min_samples_split':  [2, 5, 10],\n",
    "        'model__randomforestregressor__min_samples_leaf': [1, 2, 4],\n",
    "    },\n",
    "    cv=KFold(n_splits=5,shuffle=True), \n",
    "    n_jobs=-1, \n",
    "    verbose=1,\n",
    "    scoring='neg_mean_squared_log_error'\n",
    "    )"
   ]
  },
  {
   "cell_type": "code",
   "execution_count": 17,
   "metadata": {},
   "outputs": [
    {
     "name": "stdout",
     "output_type": "stream",
     "text": [
      "Fitting 5 folds for each of 10 candidates, totalling 50 fits\n"
     ]
    },
    {
     "data": {
      "text/plain": [
       "RandomizedSearchCV(cv=KFold(n_splits=5, random_state=None, shuffle=True),\n",
       "                   estimator=Pipeline(steps=[('preproces',\n",
       "                                              ColumnTransformer(transformers=[('cat',\n",
       "                                                                               Pipeline(steps=[('imputer',\n",
       "                                                                                                SimpleImputer(strategy='most_frequent')),\n",
       "                                                                                               ('oneHot',\n",
       "                                                                                                OneHotEncoder(handle_unknown='ignore'))]),\n",
       "                                                                               ['MSZoning',\n",
       "                                                                                'Street',\n",
       "                                                                                'Alley',\n",
       "                                                                                'LotShape',\n",
       "                                                                                'LandContour',\n",
       "                                                                                'Utilities',\n",
       "                                                                                'LotConfig',\n",
       "                                                                                'La...\n",
       "                                        'model__randomforestregressor__max_depth': [60,\n",
       "                                                                                    70,\n",
       "                                                                                    80,\n",
       "                                                                                    90,\n",
       "                                                                                    100],\n",
       "                                        'model__randomforestregressor__max_features': ['sqrt',\n",
       "                                                                                       'log2',\n",
       "                                                                                       None],\n",
       "                                        'model__randomforestregressor__min_samples_leaf': [1,\n",
       "                                                                                           2,\n",
       "                                                                                           4],\n",
       "                                        'model__randomforestregressor__min_samples_split': [2,\n",
       "                                                                                            5,\n",
       "                                                                                            10],\n",
       "                                        'model__randomforestregressor__n_estimators': [300,\n",
       "                                                                                       400,\n",
       "                                                                                       500,\n",
       "                                                                                       600]},\n",
       "                   scoring='neg_mean_squared_log_error', verbose=1)"
      ]
     },
     "execution_count": 17,
     "metadata": {},
     "output_type": "execute_result"
    }
   ],
   "source": [
    "#Poewr Transformer\n",
    "grid.fit(X_train, y_train)"
   ]
  },
  {
   "cell_type": "code",
   "execution_count": 18,
   "metadata": {},
   "outputs": [
    {
     "name": "stdout",
     "output_type": "stream",
     "text": [
      "RMLS:  0.01832928691620198\n"
     ]
    }
   ],
   "source": [
    "print('RMLS: ',np.abs(grid.best_score_))"
   ]
  },
  {
   "cell_type": "markdown",
   "metadata": {},
   "source": [
    "## Resultados\n",
    "\n",
    "Se obtuvo una métrica del 0.0175 gracias a elegir correctamente los hyperparámetros del Pipeline. \n",
    "\n",
    "Se procederá a predecir el dataset de Test"
   ]
  },
  {
   "cell_type": "code",
   "execution_count": 19,
   "metadata": {},
   "outputs": [],
   "source": [
    "y_pred = grid.predict(test)\n",
    "test['SalePrice'] = y_pred\n",
    "test.to_csv('./out/predictions.csv',index=False)"
   ]
  }
 ],
 "metadata": {
  "kernelspec": {
   "display_name": "Python 3.10.4 64-bit",
   "language": "python",
   "name": "python3"
  },
  "language_info": {
   "codemirror_mode": {
    "name": "ipython",
    "version": 3
   },
   "file_extension": ".py",
   "mimetype": "text/x-python",
   "name": "python",
   "nbconvert_exporter": "python",
   "pygments_lexer": "ipython3",
   "version": "3.10.4"
  },
  "orig_nbformat": 4,
  "vscode": {
   "interpreter": {
    "hash": "369f2c481f4da34e4445cda3fffd2e751bd1c4d706f27375911949ba6bb62e1c"
   }
  }
 },
 "nbformat": 4,
 "nbformat_minor": 2
}
